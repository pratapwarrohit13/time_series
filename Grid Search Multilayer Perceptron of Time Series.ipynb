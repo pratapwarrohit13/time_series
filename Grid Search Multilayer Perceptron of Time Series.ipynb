{
 "cells": [
  {
   "cell_type": "code",
   "execution_count": 6,
   "id": "1be3b0b1",
   "metadata": {},
   "outputs": [],
   "source": [
    "from math import sqrt\n",
    "from numpy import array\n",
    "from numpy import mean\n",
    "from pandas import DataFrame\n",
    "from pandas import concat\n",
    "import pandas as pd\n",
    "from sklearn.metrics import mean_squared_error\n",
    "from tensorflow.keras import Sequential\n",
    "from keras.layers import Dense"
   ]
  },
  {
   "cell_type": "code",
   "execution_count": 7,
   "id": "754de34c",
   "metadata": {},
   "outputs": [],
   "source": [
    "def train_test_split(data, n_test):\n",
    "    return data[:-n_test], data[-n_test:]"
   ]
  },
  {
   "cell_type": "code",
   "execution_count": 8,
   "id": "d1621da0",
   "metadata": {},
   "outputs": [],
   "source": [
    "def series_to_supervised(data, n_in=1, n_out=1):\n",
    "    df = DataFrame(data)\n",
    "    cols = list()\n",
    "    # input sequence (t-n, ... t-1)\n",
    "    for i in range(n_in, 0, -1):\n",
    "        cols.append(df.shift(i))\n",
    "    # forecast sequence (t, t+1, ... t+n)\n",
    "    for i in range(0, n_out):\n",
    "        cols.append(df.shift(-i))\n",
    "    # put it all together\n",
    "    agg = concat(cols, axis=1)\n",
    "    # drop rows with NaN values\n",
    "    agg.dropna(inplace=True)\n",
    "    return agg.values"
   ]
  },
  {
   "cell_type": "code",
   "execution_count": 10,
   "id": "f1dfa863",
   "metadata": {},
   "outputs": [],
   "source": [
    "def measure_rmse(actual, predicted):\n",
    "    return sqrt(mean_squared_error(actual, predicted))"
   ]
  },
  {
   "cell_type": "code",
   "execution_count": 11,
   "id": "ce1554ef",
   "metadata": {},
   "outputs": [],
   "source": [
    "def difference(data, order):\n",
    "    return [data[i] - data[i - order] for i in range(order, len(data))]"
   ]
  },
  {
   "cell_type": "code",
   "execution_count": 12,
   "id": "f53b9726",
   "metadata": {},
   "outputs": [],
   "source": [
    "def model_fit(train, config):\n",
    "    # unpack config\n",
    "    n_input, n_nodes, n_epochs, n_batch, n_diff = config\n",
    "    # prepare data\n",
    "    if n_diff > 0:\n",
    "        train = difference(train, n_diff)\n",
    "    # transform series into supervised format\n",
    "    data = series_to_supervised(train, n_in=n_input)\n",
    "    # separate inputs and outputs\n",
    "    features_train, target_train = data[:, :-1], data[:, -1]\n",
    "    # define model\n",
    "    model = Sequential()\n",
    "    model.add(Dense(n_nodes, activation='relu', input_dim=n_input))\n",
    "    model.add(Dense(1))\n",
    "    model.compile(loss='mse', optimizer='adam')\n",
    "    # fit model\n",
    "    model.fit(features_train, target_train, epochs=n_epochs, batch_size=n_batch, verbose=0)\n",
    "    return model"
   ]
  },
  {
   "cell_type": "code",
   "execution_count": 13,
   "id": "b0e7dc62",
   "metadata": {},
   "outputs": [],
   "source": [
    "def model_predict(model, history, config):\n",
    "    # unpack config\n",
    "    n_input, _, _, _, n_diff = config\n",
    "    # prepare data\n",
    "    correction = 0.0\n",
    "    if n_diff > 0:\n",
    "        correction = history[-n_diff]\n",
    "        history = difference(history, n_diff)\n",
    "    # shape input for model\n",
    "    x_input = array(history[-n_input:]).reshape((1, n_input))\n",
    "    # make forecast\n",
    "    pred = model.predict(x_input, verbose=0)\n",
    "    # correct forecast if it was differenced\n",
    "    return correction + pred[0]"
   ]
  },
  {
   "cell_type": "code",
   "execution_count": 33,
   "id": "d97f3127",
   "metadata": {},
   "outputs": [],
   "source": [
    "def walk_forward_validation(data, n_test, cfg):\n",
    "    predictions = list()\n",
    "    # split dataset\n",
    "    train, test = train_test_split(data, n_test)\n",
    "    # fit model\n",
    "    model = model_fit(train, cfg)\n",
    "    # seed history with training dataset\n",
    "    history = [x for x in train]\n",
    "    # step over each time-step in the test set\n",
    "    for i in range(len(test)):\n",
    "        # fit model and make forecast for history\n",
    "        pred = model_predict(model, history, cfg)\n",
    "        # store forecast in list of predictions\n",
    "        predictions.append(pred)\n",
    "        # add actual observation to history for the next loop\n",
    "        history.append(test[i])\n",
    "    # estimate prediction error\n",
    "    error = measure_rmse(test, predictions)\n",
    "    print(' > %.3f' % error)\n",
    "    return error"
   ]
  },
  {
   "cell_type": "code",
   "execution_count": 15,
   "id": "0844fbb4",
   "metadata": {},
   "outputs": [],
   "source": [
    "def repeat_evaluate(data, config, n_test, n_repeats=10):\n",
    "    # convert config to a key\n",
    "    key = str(config)\n",
    "    # fit and evaluate the model n times\n",
    "    scores = [walk_forward_validation(data, n_test, config) for _ in range(n_repeats)]\n",
    "    # summarize score\n",
    "    result = mean(scores)\n",
    "    print('> Model[%s] %.3f' % (key, result))\n",
    "    return (key, result)"
   ]
  },
  {
   "cell_type": "code",
   "execution_count": 31,
   "id": "df6f5c87",
   "metadata": {},
   "outputs": [],
   "source": [
    "def grid_search(data, cfg_list, n_test):\n",
    "    \n",
    "    scores = [repeat_evaluate(data, cfg, n_test) for cfg in cfg_list]\n",
    "    \n",
    "    scores.sort(key=lambda tup: tup[1])\n",
    "    return scores"
   ]
  },
  {
   "cell_type": "code",
   "execution_count": 17,
   "id": "d7e478c3",
   "metadata": {},
   "outputs": [],
   "source": [
    "def model_configs():\n",
    "    # define scope of configs\n",
    "    n_input = [12]\n",
    "    n_nodes = [50, 100]\n",
    "    n_epochs = [100]\n",
    "    n_batch = [1, 150]\n",
    "    n_diff = [0, 12]\n",
    "    # create configs\n",
    "    configs = list()\n",
    "    for i in n_input:\n",
    "        for j in n_nodes:\n",
    "            for k in n_epochs:\n",
    "                for l in n_batch:\n",
    "                    for m in n_diff:\n",
    "                        cfg = [i, j, k, l, m]\n",
    "                        configs.append(cfg)\n",
    "    print('Total configs: %d' % len(configs))\n",
    "    return configs"
   ]
  },
  {
   "cell_type": "code",
   "execution_count": 23,
   "id": "c6d00e4b",
   "metadata": {},
   "outputs": [],
   "source": [
    "df = pd.read_csv('D://DS//Stater_Projects//airline.txt', header=0, index_col=0)\n",
    "data = df.values"
   ]
  },
  {
   "cell_type": "code",
   "execution_count": 24,
   "id": "344841c3",
   "metadata": {},
   "outputs": [],
   "source": [
    "n_test = 12"
   ]
  },
  {
   "cell_type": "code",
   "execution_count": 25,
   "id": "f28e9ba9",
   "metadata": {},
   "outputs": [
    {
     "name": "stdout",
     "output_type": "stream",
     "text": [
      "Total configs: 8\n"
     ]
    }
   ],
   "source": [
    "cfg_list = model_configs()"
   ]
  },
  {
   "cell_type": "code",
   "execution_count": 34,
   "id": "7fe3b22e",
   "metadata": {
    "scrolled": true
   },
   "outputs": [
    {
     "name": "stdout",
     "output_type": "stream",
     "text": [
      " > 16.692\n",
      " > 17.959\n",
      " > 21.005\n",
      " > 40.335\n",
      " > 12.658\n",
      " > 20.464\n",
      " > 16.589\n",
      " > 20.778\n",
      " > 17.528\n",
      " > 16.204\n",
      "> Model[[12, 50, 100, 1, 0]] 20.021\n",
      " > 18.816\n",
      " > 21.978\n",
      " > 21.652\n",
      " > 20.532\n",
      " > 19.150\n",
      " > 20.720\n",
      " > 20.622\n",
      " > 20.127\n",
      " > 20.961\n",
      " > 18.520\n",
      "> Model[[12, 50, 100, 1, 12]] 20.308\n",
      " > 72.672\n",
      " > 69.982\n",
      " > 45.788\n",
      " > 82.830\n",
      " > 54.900\n",
      " > 59.806\n",
      " > 42.790\n",
      " > 44.759\n",
      " > 82.812\n",
      " > 64.039\n",
      "> Model[[12, 50, 100, 150, 0]] 62.038\n",
      " > 17.468\n",
      " > 20.897\n",
      " > 18.815\n",
      " > 18.693\n",
      " > 18.313\n",
      " > 18.156\n",
      " > 22.825\n",
      " > 21.353\n",
      " > 20.133\n",
      " > 20.221\n",
      "> Model[[12, 50, 100, 150, 12]] 19.687\n",
      " > 18.642\n",
      " > 19.663\n",
      " > 19.898\n",
      " > 18.663\n",
      " > 38.229\n",
      " > 17.645\n",
      " > 18.435\n",
      " > 21.978\n",
      " > 33.934\n",
      " > 17.981\n",
      "> Model[[12, 100, 100, 1, 0]] 22.507\n",
      " > 18.588\n",
      " > 19.228\n",
      " > 20.216\n",
      " > 17.751\n",
      " > 17.499\n",
      " > 18.551\n",
      " > 20.703\n",
      " > 19.094\n",
      " > 19.951\n",
      " > 17.620\n",
      "> Model[[12, 100, 100, 1, 12]] 18.920\n",
      " > 48.063\n",
      " > 61.554\n",
      " > 41.824\n",
      " > 88.276\n",
      " > 67.295\n",
      " > 59.411\n",
      " > 85.916\n",
      " > 47.176\n",
      " > 38.721\n",
      " > 56.863\n",
      "> Model[[12, 100, 100, 150, 0]] 59.510\n",
      " > 18.942\n",
      " > 19.815\n",
      " > 18.363\n",
      " > 19.691\n",
      " > 20.272\n",
      " > 19.811\n",
      " > 18.635\n",
      " > 17.641\n",
      " > 19.249\n",
      " > 19.616\n",
      "> Model[[12, 100, 100, 150, 12]] 19.204\n"
     ]
    }
   ],
   "source": [
    "scores = grid_search(data, cfg_list, n_test)"
   ]
  },
  {
   "cell_type": "code",
   "execution_count": 35,
   "id": "2758485b",
   "metadata": {},
   "outputs": [
    {
     "name": "stdout",
     "output_type": "stream",
     "text": [
      "[12, 100, 100, 1, 12] 18.920142185918188\n",
      "[12, 100, 100, 150, 12] 19.203679430825296\n",
      "[12, 50, 100, 150, 12] 19.687393086402743\n"
     ]
    }
   ],
   "source": [
    "for cfg, error in scores[:3]:\n",
    "    print(cfg, error)"
   ]
  },
  {
   "cell_type": "code",
   "execution_count": null,
   "id": "e5d5ef3c",
   "metadata": {},
   "outputs": [],
   "source": []
  }
 ],
 "metadata": {
  "kernelspec": {
   "display_name": "Python 3",
   "language": "python",
   "name": "python3"
  },
  "language_info": {
   "codemirror_mode": {
    "name": "ipython",
    "version": 3
   },
   "file_extension": ".py",
   "mimetype": "text/x-python",
   "name": "python",
   "nbconvert_exporter": "python",
   "pygments_lexer": "ipython3",
   "version": "3.7.10"
  }
 },
 "nbformat": 4,
 "nbformat_minor": 5
}
