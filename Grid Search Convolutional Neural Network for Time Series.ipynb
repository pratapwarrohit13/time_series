{
 "cells": [
  {
   "cell_type": "code",
   "execution_count": 2,
   "id": "8bb9ecbf",
   "metadata": {},
   "outputs": [],
   "source": [
    "from math import sqrt\n",
    "from numpy import array\n",
    "from numpy import mean\n",
    "from pandas import DataFrame\n",
    "from pandas import concat\n",
    "from pandas import read_csv\n",
    "from sklearn.metrics import mean_squared_error\n",
    "from tensorflow.keras import Sequential\n",
    "from keras.layers import Dense\n",
    "from keras.layers import Flatten\n",
    "from keras.layers.convolutional import Conv1D\n",
    "from keras.layers.convolutional import MaxPooling1D"
   ]
  },
  {
   "cell_type": "code",
   "execution_count": 3,
   "id": "1c960404",
   "metadata": {},
   "outputs": [],
   "source": [
    "def train_test_split(data, n_test):\n",
    "    return data[:-n_test], data[-n_test:]"
   ]
  },
  {
   "cell_type": "code",
   "execution_count": 4,
   "id": "d3f99be1",
   "metadata": {},
   "outputs": [],
   "source": [
    "def series_to_supervised(data, n_in=1, n_out=1):\n",
    "    df = DataFrame(data)\n",
    "    cols = list()\n",
    "    # input sequence (t-n, ... t-1)\n",
    "    for i in range(n_in, 0, -1):\n",
    "        cols.append(df.shift(i))\n",
    "    # forecast sequence (t, t+1, ... t+n)\n",
    "    for i in range(0, n_out):\n",
    "        cols.append(df.shift(-i))\n",
    "    # put it all together\n",
    "    agg = concat(cols, axis=1)\n",
    "    # drop rows with NaN values\n",
    "    agg.dropna(inplace=True)\n",
    "    return agg.values"
   ]
  },
  {
   "cell_type": "code",
   "execution_count": 5,
   "id": "6b3d6f6d",
   "metadata": {},
   "outputs": [],
   "source": [
    "def measure_rmse(actual, predicted):\n",
    "    return sqrt(mean_squared_error(actual, predicted))"
   ]
  },
  {
   "cell_type": "code",
   "execution_count": 6,
   "id": "e9977283",
   "metadata": {},
   "outputs": [],
   "source": [
    "def difference(data, order):\n",
    "    return [data[i] - data[i - order] for i in range(order, len(data))]"
   ]
  },
  {
   "cell_type": "code",
   "execution_count": 7,
   "id": "0720c212",
   "metadata": {},
   "outputs": [],
   "source": [
    "def model_fit(train, config):\n",
    "    # unpack config\n",
    "    n_input, n_filters, n_kernel, n_epochs, n_batch, n_diff = config\n",
    "    # prepare data\n",
    "    if n_diff > 0:\n",
    "        train = difference(train, n_diff)\n",
    "    #transform series into supervised format\n",
    "    data = series_to_supervised(train, n_in=n_input)\n",
    "    # separate inputs and outputs\n",
    "    features_train, target_train = data[:, :-1], data[:, -1]\n",
    "    # reshape input data into [samples, timesteps, features]\n",
    "    n_features = 1\n",
    "    features_train = features_train.reshape((features_train.shape[0], features_train.shape[1], n_features))\n",
    "    # define model\n",
    "    model = Sequential()\n",
    "    model.add(Conv1D(filters=n_filters, kernel_size=n_kernel, activation='relu', input_shape=(n_input, n_features)))\n",
    "    model.add(MaxPooling1D(pool_size=2))\n",
    "    model.add(Flatten())\n",
    "    model.add(Dense(1))\n",
    "    model.compile(loss='mse', optimizer='adam')\n",
    "    # fit\n",
    "    model.fit(features_train, target_train, epochs=n_epochs, batch_size=n_batch, verbose=0)\n",
    "    return model"
   ]
  },
  {
   "cell_type": "code",
   "execution_count": 8,
   "id": "55e9b9c1",
   "metadata": {},
   "outputs": [],
   "source": [
    "def model_predict(model, history, config):\n",
    "    # unpack config\n",
    "    n_input, _, _, _, _, n_diff = config\n",
    "    # prepare data\n",
    "    correction = 0.0\n",
    "    if n_diff > 0:\n",
    "        correction = history[-n_diff]\n",
    "        history = difference(history, n_diff)\n",
    "    x_input = array(history[-n_input:]).reshape((1, n_input, 1))\n",
    "    # forecast\n",
    "    pred = model.predict(x_input, verbose=0)\n",
    "    return correction + pred[0]"
   ]
  },
  {
   "cell_type": "code",
   "execution_count": 9,
   "id": "bc464224",
   "metadata": {},
   "outputs": [],
   "source": [
    "def walk_forward_validation(data, n_test, cfg):\n",
    "    predictions = list()\n",
    "    # split dataset\n",
    "    train, test = train_test_split(data, n_test)\n",
    "    # fit model\n",
    "    model = model_fit(train, cfg)\n",
    "    # seed history with training dataset\n",
    "    history = [x for x in train]\n",
    "    # step over each time-step in the test set\n",
    "    for i in range(len(test)):\n",
    "        # fit model and make forecast for history\n",
    "        pred = model_predict(model, history, cfg)\n",
    "        # store forecast in list of predictions\n",
    "        predictions.append(pred)\n",
    "        # add actual observation to history for the next loop\n",
    "        history.append(test[i])\n",
    "    # estimate prediction error\n",
    "    error = measure_rmse(test, predictions)\n",
    "    print(' > %.3f' % error)\n",
    "    return error"
   ]
  },
  {
   "cell_type": "code",
   "execution_count": 10,
   "id": "aab466ee",
   "metadata": {},
   "outputs": [],
   "source": [
    "def repeat_evaluate(data, config, n_test, n_repeats=10):\n",
    "    # convert config to a key\n",
    "    key = str(config)\n",
    "    # fit and evaluate the model n times\n",
    "    scores = [walk_forward_validation(data, n_test, config) for _ in range(n_repeats)]\n",
    "    # summarize score\n",
    "    result = mean(scores)\n",
    "    print('> Model[%s] %.3f' % (key, result))\n",
    "    return (key, result)"
   ]
  },
  {
   "cell_type": "code",
   "execution_count": 11,
   "id": "22185a17",
   "metadata": {},
   "outputs": [],
   "source": [
    "def grid_search(data, cfg_list, n_test):\n",
    "    # evaluate configs\n",
    "    scores = [repeat_evaluate(data, cfg, n_test) for cfg in cfg_list]\n",
    "    # sort configs by error, asc\n",
    "    scores.sort(key=lambda tup: tup[1])\n",
    "    return scores"
   ]
  },
  {
   "cell_type": "code",
   "execution_count": 12,
   "id": "8c1329ae",
   "metadata": {},
   "outputs": [],
   "source": [
    "def model_configs():\n",
    "    # define scope of configs\n",
    "    n_input = [12]\n",
    "    n_filters = [64]\n",
    "    n_kernels = [3, 5]\n",
    "    n_epochs = [100]\n",
    "    n_batch = [1, 150]\n",
    "    n_diff = [0, 12]\n",
    "    # create configs\n",
    "    configs = list()\n",
    "    for a in n_input:\n",
    "        for b in n_filters:\n",
    "            for c in n_kernels:\n",
    "                for d in n_epochs:\n",
    "                    for e in n_batch:\n",
    "                        for f in n_diff:\n",
    "                            cfg = [a,b,c,d,e,f]\n",
    "                            configs.append(cfg)\n",
    "    print('Total configs: %d' % len(configs))\n",
    "    return configs"
   ]
  },
  {
   "cell_type": "code",
   "execution_count": 13,
   "id": "1432bcb7",
   "metadata": {},
   "outputs": [],
   "source": [
    "df = read_csv('D://DS//Stater_Projects//airline.txt', header=0, index_col=0)\n",
    "data = df.values"
   ]
  },
  {
   "cell_type": "code",
   "execution_count": 14,
   "id": "692234ef",
   "metadata": {},
   "outputs": [],
   "source": [
    "n_test = 12"
   ]
  },
  {
   "cell_type": "code",
   "execution_count": 15,
   "id": "e23b21da",
   "metadata": {},
   "outputs": [
    {
     "name": "stdout",
     "output_type": "stream",
     "text": [
      "Total configs: 8\n"
     ]
    }
   ],
   "source": [
    "cfg_list = model_configs()"
   ]
  },
  {
   "cell_type": "code",
   "execution_count": 16,
   "id": "01e183a5",
   "metadata": {},
   "outputs": [
    {
     "name": "stdout",
     "output_type": "stream",
     "text": [
      " > 21.642\n",
      " > 23.442\n",
      " > 19.370\n",
      " > 16.805\n",
      " > 33.781\n",
      " > 25.504\n",
      " > 34.962\n",
      " > 23.424\n",
      " > 17.355\n",
      " > 17.011\n",
      "> Model[[12, 64, 3, 100, 1, 0]] 23.330\n",
      " > 19.625\n",
      " > 21.455\n",
      " > 18.918\n",
      " > 21.282\n",
      " > 19.570\n",
      " > 20.137\n",
      " > 20.803\n",
      " > 19.538\n",
      " > 19.744\n",
      " > 20.508\n",
      "> Model[[12, 64, 3, 100, 1, 12]] 20.158\n",
      " > 71.585\n",
      " > 89.248\n",
      " > 72.131\n",
      " > 81.099\n",
      " > 83.620\n",
      " > 85.819\n",
      " > 75.208\n",
      " > 90.935\n",
      " > 88.231\n",
      " > 75.329\n",
      "> Model[[12, 64, 3, 100, 150, 0]] 81.320\n",
      " > 19.595\n",
      " > 18.710\n",
      " > 19.621\n",
      " > 17.770\n",
      " > 19.077\n",
      " > 19.795\n",
      " > 19.236\n",
      " > 19.097\n",
      " > 19.631\n",
      " > 18.989\n",
      "> Model[[12, 64, 3, 100, 150, 12]] 19.152\n",
      " > 19.544\n",
      " > 19.816\n",
      " > 17.860\n",
      " > 18.844\n",
      " > 19.166\n",
      " > 18.053\n",
      " > 22.558\n",
      " > 19.277\n",
      " > 27.210\n",
      " > 24.222\n",
      "> Model[[12, 64, 5, 100, 1, 0]] 20.655\n",
      " > 18.506\n",
      " > 18.679\n",
      " > 19.372\n",
      " > 17.961\n",
      " > 19.887\n",
      " > 19.081\n",
      " > 18.220\n",
      " > 20.080\n",
      " > 18.057\n",
      " > 19.439\n",
      "> Model[[12, 64, 5, 100, 1, 12]] 18.928\n",
      " > 90.061\n",
      " > 85.753\n",
      " > 75.292\n",
      " > 80.534\n",
      " > 81.164\n",
      " > 91.941\n",
      " > 79.503\n",
      " > 80.677\n",
      " > 73.495\n",
      " > 78.975\n",
      "> Model[[12, 64, 5, 100, 150, 0]] 81.739\n",
      " > 20.933\n",
      " > 20.475\n",
      " > 19.812\n",
      " > 21.161\n",
      " > 19.203\n",
      " > 20.554\n",
      " > 17.874\n",
      " > 18.510\n",
      " > 18.474\n",
      " > 19.000\n",
      "> Model[[12, 64, 5, 100, 150, 12]] 19.600\n",
      "done\n"
     ]
    }
   ],
   "source": [
    "scores = grid_search(data, cfg_list, n_test)\n",
    "print('done')"
   ]
  },
  {
   "cell_type": "code",
   "execution_count": 17,
   "id": "be9aac1e",
   "metadata": {},
   "outputs": [
    {
     "name": "stdout",
     "output_type": "stream",
     "text": [
      "[12, 64, 5, 100, 1, 12] 18.928364215822757\n",
      "[12, 64, 3, 100, 150, 12] 19.152169626631554\n",
      "[12, 64, 5, 100, 150, 12] 19.599537876931855\n"
     ]
    }
   ],
   "source": [
    "for cfg, error in scores[:3]:\n",
    "    print(cfg, error)"
   ]
  },
  {
   "cell_type": "code",
   "execution_count": null,
   "id": "7b221c93",
   "metadata": {},
   "outputs": [],
   "source": []
  }
 ],
 "metadata": {
  "kernelspec": {
   "display_name": "Python 3",
   "language": "python",
   "name": "python3"
  },
  "language_info": {
   "codemirror_mode": {
    "name": "ipython",
    "version": 3
   },
   "file_extension": ".py",
   "mimetype": "text/x-python",
   "name": "python",
   "nbconvert_exporter": "python",
   "pygments_lexer": "ipython3",
   "version": "3.7.10"
  }
 },
 "nbformat": 4,
 "nbformat_minor": 5
}
