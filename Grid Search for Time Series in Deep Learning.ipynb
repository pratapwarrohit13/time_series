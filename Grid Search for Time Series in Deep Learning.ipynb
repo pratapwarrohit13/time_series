{
 "cells": [
  {
   "cell_type": "code",
   "execution_count": 7,
   "id": "4cd7ecf7",
   "metadata": {},
   "outputs": [],
   "source": [
    "# load and plot dataset\n",
    "import pandas as pd\n",
    "import matplotlib.pyplot as plt\n",
    "from math import sqrt\n",
    "from numpy import mean\n",
    "from sklearn.metrics import mean_squared_error"
   ]
  },
  {
   "cell_type": "code",
   "execution_count": 5,
   "id": "e20c1586",
   "metadata": {},
   "outputs": [
    {
     "name": "stdout",
     "output_type": "stream",
     "text": [
      "(144, 1)\n"
     ]
    },
    {
     "data": {
      "image/png": "[encoded data removed]",
      "text/plain": [
       "<Figure size 432x288 with 1 Axes>"
      ]
     },
     "metadata": {
      "needs_background": "light"
     },
     "output_type": "display_data"
    }
   ],
   "source": [
    "df = pd.read_csv('D://DS//Stater_Projects//airline.txt', header=0, index_col=0)\n",
    "print(df.shape)\n",
    "plt.plot(df)\n",
    "plt.show()"
   ]
  },
  {
   "cell_type": "code",
   "execution_count": 6,
   "id": "32652d2b",
   "metadata": {},
   "outputs": [],
   "source": [
    "def train_test_split(data, n_test):\n",
    "    return data[:-n_test], data[-n_test:]\n"
   ]
  },
  {
   "cell_type": "code",
   "execution_count": 8,
   "id": "3800d16f",
   "metadata": {},
   "outputs": [],
   "source": [
    "def measure_rmse(actual, predicted):\n",
    "    return sqrt(mean_squared_error(actual, predicted))"
   ]
  },
  {
   "cell_type": "code",
   "execution_count": 9,
   "id": "66f309ff",
   "metadata": {},
   "outputs": [],
   "source": [
    "def model_fit(train, config):\n",
    "    return None"
   ]
  },
  {
   "cell_type": "code",
   "execution_count": 10,
   "id": "e3e942d9",
   "metadata": {},
   "outputs": [],
   "source": [
    "def model_predict(model, history, offset):\n",
    "    return history[-offset]"
   ]
  },
  {
   "cell_type": "code",
   "execution_count": 12,
   "id": "420e294b",
   "metadata": {},
   "outputs": [],
   "source": [
    "def walk_forward_validation(data, n_test, cfg):\n",
    "    predictions = list()\n",
    "    # split dataset\n",
    "    train, test = train_test_split(data, n_test)\n",
    "    # fit model\n",
    "    model = model_fit(train, cfg)\n",
    "    # seed history with training dataset\n",
    "    history = [x for x in train]\n",
    "    # step over each time-step in the test set\n",
    "    for i in range(len(test)):\n",
    "        # fit model and make forecast for history\n",
    "        pred = model_predict(model, history, cfg)\n",
    "        # store forecast in list of predictions\n",
    "        predictions.append(pred)\n",
    "        # add actual observation to history for the next loop\n",
    "        history.append(test[i])\n",
    "    # estimate prediction error\n",
    "    error = measure_rmse(test, predictions)\n",
    "    print(' > %.3f' % error)\n",
    "    return error"
   ]
  },
  {
   "cell_type": "code",
   "execution_count": 13,
   "id": "4dc70587",
   "metadata": {},
   "outputs": [],
   "source": [
    "def repeat_evaluate(data, config, n_test, n_repeats=10):\n",
    "    # convert config to a key\n",
    "    key = str(config)\n",
    "    # fit and evaluate the model n times\n",
    "    scores = [walk_forward_validation(data, n_test, config) for _ in range(n_repeats)]\n",
    "    # summarize score\n",
    "    result = mean(scores)\n",
    "    print('> Model[%s] %.3f' % (key, result))\n",
    "    return (key, result)"
   ]
  },
  {
   "cell_type": "code",
   "execution_count": 15,
   "id": "ba52d427",
   "metadata": {},
   "outputs": [],
   "source": [
    "def grid_search(data, cfg_list, n_test):\n",
    "    #evaluate configs\n",
    "    scores = [repeat_evaluate(data, cfg, n_test) for cfg in cfg_list]\n",
    "    # sort configs by error, asc\n",
    "    scores.sort(key=lambda tup: tup[1])\n",
    "    return scores"
   ]
  },
  {
   "cell_type": "code",
   "execution_count": 20,
   "id": "b79eb7a8",
   "metadata": {},
   "outputs": [],
   "source": [
    "df = pd.read_csv('D://DS//Stater_Projects//airline.txt', header=0, index_col=0)\n",
    "data = df.values"
   ]
  },
  {
   "cell_type": "code",
   "execution_count": 18,
   "id": "5fb5b6f8",
   "metadata": {},
   "outputs": [],
   "source": [
    "n_test = 12"
   ]
  },
  {
   "cell_type": "code",
   "execution_count": 19,
   "id": "fc80a796",
   "metadata": {},
   "outputs": [],
   "source": [
    "cfg_list = [1, 6, 12, 24, 36]"
   ]
  },
  {
   "cell_type": "code",
   "execution_count": 21,
   "id": "21c13576",
   "metadata": {},
   "outputs": [
    {
     "name": "stdout",
     "output_type": "stream",
     "text": [
      " > 53.152\n",
      " > 53.152\n",
      " > 53.152\n",
      " > 53.152\n",
      " > 53.152\n",
      " > 53.152\n",
      " > 53.152\n",
      " > 53.152\n",
      " > 53.152\n",
      " > 53.152\n",
      "> Model[1] 53.152\n",
      " > 126.735\n",
      " > 126.735\n",
      " > 126.735\n",
      " > 126.735\n",
      " > 126.735\n",
      " > 126.735\n",
      " > 126.735\n",
      " > 126.735\n",
      " > 126.735\n",
      " > 126.735\n",
      "> Model[6] 126.735\n",
      " > 50.708\n",
      " > 50.708\n",
      " > 50.708\n",
      " > 50.708\n",
      " > 50.708\n",
      " > 50.708\n",
      " > 50.708\n",
      " > 50.708\n",
      " > 50.708\n",
      " > 50.708\n",
      "> Model[12] 50.708\n",
      " > 97.110\n",
      " > 97.110\n",
      " > 97.110\n",
      " > 97.110\n",
      " > 97.110\n",
      " > 97.110\n",
      " > 97.110\n",
      " > 97.110\n",
      " > 97.110\n",
      " > 97.110\n",
      "> Model[24] 97.110\n",
      " > 110.274\n",
      " > 110.274\n",
      " > 110.274\n",
      " > 110.274\n",
      " > 110.274\n",
      " > 110.274\n",
      " > 110.274\n",
      " > 110.274\n",
      " > 110.274\n",
      " > 110.274\n",
      "> Model[36] 110.274\n",
      "done\n"
     ]
    }
   ],
   "source": [
    "scores = grid_search(data, cfg_list, n_test)\n",
    "print('done')"
   ]
  },
  {
   "cell_type": "code",
   "execution_count": 22,
   "id": "ed1af341",
   "metadata": {},
   "outputs": [
    {
     "name": "stdout",
     "output_type": "stream",
     "text": [
      "12 50.708316214732804\n",
      "1 53.1515129919491\n",
      "24 97.10990337413241\n",
      "36 110.27352356753639\n",
      "6 126.73495965991387\n"
     ]
    }
   ],
   "source": [
    "for cfg, error in scores[:10]:\n",
    "    print(cfg, error)"
   ]
  },
  {
   "cell_type": "code",
   "execution_count": null,
   "id": "4c140c00",
   "metadata": {},
   "outputs": [],
   "source": []
  }
 ],
 "metadata": {
  "kernelspec": {
   "display_name": "Python 3",
   "language": "python",
   "name": "python3"
  },
  "language_info": {
   "codemirror_mode": {
    "name": "ipython",
    "version": 3
   },
   "file_extension": ".py",
   "mimetype": "text/x-python",
   "name": "python",
   "nbconvert_exporter": "python",
   "pygments_lexer": "ipython3",
   "version": "3.7.10"
  }
 },
 "nbformat": 4,
 "nbformat_minor": 5
}
